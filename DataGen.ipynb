{
 "cells": [
  {
   "cell_type": "code",
   "execution_count": 1,
   "metadata": {
    "id": "aBq5pUcOJBHU"
   },
   "outputs": [],
   "source": [
    "import math\n",
    "import random\n",
    "import pickle\n",
    "import numpy as np\n",
    "import matplotlib.pyplot as plt"
   ]
  },
  {
   "cell_type": "markdown",
   "metadata": {
    "id": "Eeo8qM9_JESI"
   },
   "source": [
    "# Main Functions"
   ]
  },
  {
   "cell_type": "markdown",
   "metadata": {
    "id": "-FkpLjfnKZF_"
   },
   "source": [
    "\n",
    "\n",
    "```\n",
    "S_array = np.array(\n",
    "    [\n",
    "        [['x', 'y', 'z'],['x', 'y', 'z'],['x', 'y', 'z'], ... , ['x', 'y', 'z']], # N three dimensional spins\n",
    "        \n",
    "         ...\n",
    "\n",
    "        [['x', 'y', 'z'],['x', 'y', 'z'],['x', 'y', 'z'], ... , ['x', 'y', 'z']]\n",
    "        # No. of Ensemble\n",
    "    ]\n",
    ")\n",
    "```\n",
    "\n"
   ]
  },
  {
   "cell_type": "code",
   "execution_count": 2,
   "metadata": {
    "id": "CmT5w4IiMNOB"
   },
   "outputs": [],
   "source": [
    "def calV_3D(N, ens, mc, S_array):\n",
    "  '''\n",
    "  We calculate the diversity of group opinions using the function calV_3D,\n",
    "  which yields a value analogous to electric potential energy.\n",
    "  A higher energy value indicates greater diversity among the group opinions.\n",
    "  '''\n",
    "\n",
    "  # Choose the V_max considering group size (N); these values are maximum PE of N-system, respectively.\n",
    "  V_max_list = np.array([1.4142135623730951, 3.9481594714802353, 7.666977259633668, 12.49614444572656, 18.511218397802732, 25.619490892577677, 33.89610553620064, 43.30531859956281, 53.851507919120344])\n",
    "  V_max = V_max_list[N-2]\n",
    "\n",
    "  # Calculate V (mass of external field)\n",
    "  V = 0\n",
    "  for i in range(N):\n",
    "    for j in range(N):\n",
    "      if i == j:\n",
    "        continue\n",
    "      a = S_array[mc,ens,i,:]\n",
    "      b = S_array[mc,ens,j,:]\n",
    "      cos_t = np.round(np.dot(a, b),10)\n",
    "      t = (2-2*cos_t)**0.5\n",
    "      V += t**0.5\n",
    "\n",
    "  return 0.5*V/V_max"
   ]
  },
  {
   "cell_type": "code",
   "execution_count": 3,
   "metadata": {
    "id": "FOFG4CzdJhBh"
   },
   "outputs": [],
   "source": [
    "def run(N, T, alpha, ENS_step, MC_step, CONFIG):\n",
    "  '''\n",
    "  N =         No. of agents\n",
    "  alpha =     Exponent\n",
    "  ENS_step =  Ensemble\n",
    "  MC_step =   (Macro) Step\n",
    "  '''\n",
    "  S_array = np.zeros((MC_step, ENS_step, N, 3))        # S(t)\n",
    "  V_array = np.zeros((MC_step, ENS_step))           # V(t)\n",
    "  #del_S_array = np.zeros((MC_step, ENS_step, N))       # delS(t)\n",
    "\n",
    "  for mc in range(MC_step):\n",
    "    for ens in range(ENS_step):\n",
    "\n",
    "      # 1. Initialize\n",
    "      if mc == 0:\n",
    "        for n in range(N):\n",
    "          theta_dict = {\n",
    "              'NH': (1/2*np.random.rand())*np.pi,\n",
    "              'EWH': (1/2*np.random.rand())*np.pi,\n",
    "              'SH': (1-1/2*np.random.rand())*np.pi\n",
    "          }\n",
    "          phi_dict = {\n",
    "              'NH': (2*np.random.rand())*np.pi,\n",
    "              'EWH': (2*np.random.rand())*np.pi,\n",
    "              'SH': (2*np.random.rand())*np.pi\n",
    "          }\n",
    "          theta = theta_dict[CONFIG]\n",
    "          phi = phi_dict[CONFIG]\n",
    "          if CONFIG == 'EWH':\n",
    "            S_array[mc,ens,n,:] = np.array([np.sin(theta)*np.cos(phi), -np.cos(theta), np.sin(theta)*np.sin(phi)])\n",
    "          else:\n",
    "            S_array[mc,ens,n,:] = np.array([np.sin(theta)*np.cos(phi), np.sin(theta)*np.sin(phi), np.cos(theta)])\n",
    "        V_array[mc,ens] = calV_3D(N, ens, mc, S_array)\n",
    "\n",
    "      # 2. Interact\n",
    "      else:\n",
    "        V = V_array[mc-1,ens]\n",
    "        for i in range(N):\n",
    "          # 1. Calculate Group Opinion (S_G)\n",
    "          e = np.array([0.0, 0.0, 1.0])\n",
    "          v_i = np.array([0.0, 0.0, 0.0])\n",
    "          for j in range(N):\n",
    "            si_sj = np.dot(S_array[mc-1,ens,i,:], S_array[mc-1,ens,j,:])\n",
    "            v_ij = 0.5*(1+si_sj)*S_array[mc-1,ens,j,:]\n",
    "            v_i += v_ij\n",
    "          v_i += (N**alpha)*V*e\n",
    "          v_i_n = np.linalg.norm(v_i)\n",
    "          v_f = v_i/v_i_n\n",
    "\n",
    "          # 2. Calculate Prob\n",
    "          if mc <= T:\n",
    "            rT = np.sum(S_array[0:mc,ens,i,:], axis=0)\n",
    "          else:\n",
    "            rT = np.sum(S_array[mc-T:mc,ens,i,:], axis=0)\n",
    "          M = np.linalg.norm(rT)\n",
    "          Th = np.arccos(np.round(np.dot(rT/M, v_f),10))\n",
    "          Lamb = 1/(1+M*Th)\n",
    "\n",
    "          # 3. Spin\n",
    "          p = np.random.rand()\n",
    "          # 3-1. Change Spins\n",
    "          if p <= Lamb:\n",
    "            S_array[mc,ens,i,:] = v_f\n",
    "          # 3-2. Retain Spins\n",
    "          else:\n",
    "            S_array[mc,ens,i,:] = S_array[mc-1,ens,i,:]\n",
    "          #del_S_array[mc,ens,i] = np.linalg.norm(S_array[mc,ens,i,:] - S_array[mc-1,ens,i,:])\n",
    "          V_array[mc,ens] = calV_3D(N, ens, mc, S_array)\n",
    "\n",
    "  return S_array, V_array"
   ]
  },
  {
   "cell_type": "markdown",
   "metadata": {
    "id": "tLAnFF5YlpBI"
   },
   "source": [
    "# Data generation\n",
    "\n",
    "The code that generates data for 'FigAll' can be found in another Jupyter notebook (.ipynb file)."
   ]
  },
  {
   "cell_type": "markdown",
   "metadata": {},
   "source": [
    "## FigIC"
   ]
  },
  {
   "cell_type": "code",
   "execution_count": 7,
   "metadata": {
    "id": "m7FtxG2rmGDQ"
   },
   "outputs": [],
   "source": [
    "N = 4                             # No. of agents\n",
    "T = 10\n",
    "alpha = 0.5                       # Exponent\n",
    "ENS_step = 1000                    # Ensemble\n",
    "MC_step = 100+1                     # (Macro) Step\n",
    "\n",
    "spin_config = ['NH', 'EWH', 'SH']\n",
    "\n",
    "for config in spin_config:\n",
    "  S_array, V_array = run(N, T, alpha, ENS_step, MC_step, config)\n",
    "\n",
    "  with open(f\"Sarray_N{N}_T{T}_alpha{alpha}_{config}.pkl\",\"wb\") as f:\n",
    "      pickle.dump(S_array, f)\n",
    "  with open(f\"Varray_N{N}_T{T}_alpha{alpha}_{config}.pkl\",\"wb\") as f:\n",
    "      pickle.dump(V_array, f)"
   ]
  },
  {
   "cell_type": "markdown",
   "metadata": {},
   "source": [
    "## FigT"
   ]
  },
  {
   "cell_type": "code",
   "execution_count": null,
   "metadata": {},
   "outputs": [],
   "source": [
    "N = 4                             # No. of agents\n",
    "alpha = 0.5                       # Exponent\n",
    "ENS_step = 1000                    # Ensemble\n",
    "MC_step = 100+1                     # (Macro) Step\n",
    "\n",
    "spin_config = ['SH']\n",
    "T_lst = [1, 10, 100]\n",
    "\n",
    "for config in spin_config:\n",
    "    for T in T_lst:\n",
    "      S_array, V_array = run(N, T, alpha, ENS_step, MC_step, config)\n",
    "\n",
    "      with open(f\"Sarray_N{N}_T{T}_alpha{alpha}_{config}.pkl\",\"wb\") as f:\n",
    "          pickle.dump(S_array, f)\n",
    "      with open(f\"Varray_N{N}_T{T}_alpha{alpha}_{config}.pkl\",\"wb\") as f:\n",
    "          pickle.dump(V_array, f)"
   ]
  },
  {
   "cell_type": "markdown",
   "metadata": {},
   "source": [
    "## FigTfinal"
   ]
  },
  {
   "cell_type": "code",
   "execution_count": 13,
   "metadata": {},
   "outputs": [],
   "source": [
    "N = 4                             # No. of agents\n",
    "alpha = 0.5                       # Exponent\n",
    "ENS_step = 1000                    # Ensemble\n",
    "MC_step = 100+1                     # (Macro) Step\n",
    "\n",
    "spin_config = 'SH'\n",
    "T_lst = [5,10,15,20,25,30]\n",
    "\n",
    "for T in T_lst:\n",
    "  S_array, V_array = run(N, T, alpha, ENS_step, MC_step, config)\n",
    "\n",
    "  with open(f\"Sarray_N{N}_T{T}_alpha{alpha}_{config}.pkl\",\"wb\") as f:\n",
    "      pickle.dump(S_array, f)\n",
    "  with open(f\"Varray_N{N}_T{T}_alpha{alpha}_{config}.pkl\",\"wb\") as f:\n",
    "      pickle.dump(V_array, f)"
   ]
  },
  {
   "cell_type": "markdown",
   "metadata": {},
   "source": [
    "## Figscale"
   ]
  },
  {
   "cell_type": "code",
   "execution_count": 8,
   "metadata": {},
   "outputs": [],
   "source": [
    "N = 4                             # No. of agents\n",
    "T = 2                       # Exponent\n",
    "ENS_step = 1000                    # Ensemble\n",
    "MC_step = T*10+1                     # (Macro) Step\n",
    "\n",
    "config = 'SH'\n",
    "alpha = 0.5\n",
    "\n",
    "S_array, V_array = run(N, T, alpha, ENS_step, MC_step, config)\n",
    "\n",
    "with open(f\"Sarray_N{N}_T{T}_alpha{alpha}_{config}.pkl\",\"wb\") as f:\n",
    "  pickle.dump(S_array, f)\n",
    "with open(f\"Varray_N{N}_T{T}_alpha{alpha}_{config}.pkl\",\"wb\") as f:\n",
    "  pickle.dump(V_array, f)"
   ]
  },
  {
   "cell_type": "code",
   "execution_count": null,
   "metadata": {},
   "outputs": [],
   "source": [
    "N = 4                             # No. of agents\n",
    "T = 10                       # Exponent\n",
    "ENS_step = 1000                    # Ensemble\n",
    "MC_step = T*10+1                     # (Macro) Step\n",
    "\n",
    "config = 'SH'\n",
    "alpha = 0.5\n",
    "\n",
    "S_array, V_array = run(N, T, alpha, ENS_step, MC_step, config)\n",
    "\n",
    "with open(f\"Sarray_N{N}_T{T}_alpha{alpha}_{config}.pkl\",\"wb\") as f:\n",
    "  pickle.dump(S_array, f)\n",
    "with open(f\"Varray_N{N}_T{T}_alpha{alpha}_{config}.pkl\",\"wb\") as f:\n",
    "  pickle.dump(V_array, f)"
   ]
  },
  {
   "cell_type": "code",
   "execution_count": 23,
   "metadata": {},
   "outputs": [],
   "source": [
    "N = 4                             # No. of agents\n",
    "T = 50                       # Exponent\n",
    "ENS_step = 1000                    # Ensemble\n",
    "MC_step = T*10+1                     # (Macro) Step\n",
    "\n",
    "config = 'SH'\n",
    "alpha = 0.5\n",
    "\n",
    "S_array, V_array = run(N, T, alpha, ENS_step, MC_step, config)\n",
    "\n",
    "with open(f\"Sarray_N{N}_T{T}_alpha{alpha}_{config}.pkl\",\"wb\") as f:\n",
    "  pickle.dump(S_array, f)\n",
    "with open(f\"Varray_N{N}_T{T}_alpha{alpha}_{config}.pkl\",\"wb\") as f:\n",
    "  pickle.dump(V_array, f)"
   ]
  },
  {
   "cell_type": "code",
   "execution_count": 24,
   "metadata": {},
   "outputs": [],
   "source": [
    "N = 4                             # No. of agents\n",
    "T = 200                       # Exponent\n",
    "ENS_step = 1000                    # Ensemble\n",
    "MC_step = T*10+1                     # (Macro) Step\n",
    "\n",
    "config = 'SH'\n",
    "alpha = 0.5\n",
    "\n",
    "S_array, V_array = run(N, T, alpha, ENS_step, MC_step, config)\n",
    "\n",
    "with open(f\"Sarray_N{N}_T{T}_alpha{alpha}_{config}.pkl\",\"wb\") as f:\n",
    "  pickle.dump(S_array, f)\n",
    "with open(f\"Varray_N{N}_T{T}_alpha{alpha}_{config}.pkl\",\"wb\") as f:\n",
    "  pickle.dump(V_array, f)"
   ]
  },
  {
   "cell_type": "markdown",
   "metadata": {},
   "source": [
    "## FigN"
   ]
  },
  {
   "cell_type": "code",
   "execution_count": 14,
   "metadata": {},
   "outputs": [],
   "source": [
    "for N in [2,3,4,5,6,7,8,9,10]:\n",
    "    T = 10\n",
    "    alpha = 0.5                       # Exponent\n",
    "    ENS_step = 1000                    # Ensemble\n",
    "    MC_step = 100+1                     # (Macro) Step\n",
    "\n",
    "    spin_config = ['NH', 'EWH', 'SH']\n",
    "\n",
    "    for config in spin_config:\n",
    "      S_array, V_array = run(N, T, alpha, ENS_step, MC_step, config)\n",
    "    \n",
    "      with open(f\"Sarray_N{N}_T{T}_alpha{alpha}_{config}.pkl\",\"wb\") as f:\n",
    "          pickle.dump(S_array, f)\n",
    "      with open(f\"Varray_N{N}_T{T}_alpha{alpha}_{config}.pkl\",\"wb\") as f:\n",
    "          pickle.dump(V_array, f)"
   ]
  }
 ],
 "metadata": {
  "colab": {
   "collapsed_sections": [
    "ana2QFp3MfYA",
    "y9KlfaXpJla3"
   ],
   "provenance": [],
   "toc_visible": true
  },
  "kernelspec": {
   "display_name": "Python 3 (ipykernel)",
   "language": "python",
   "name": "python3"
  },
  "language_info": {
   "codemirror_mode": {
    "name": "ipython",
    "version": 3
   },
   "file_extension": ".py",
   "mimetype": "text/x-python",
   "name": "python",
   "nbconvert_exporter": "python",
   "pygments_lexer": "ipython3",
   "version": "3.11.5"
  }
 },
 "nbformat": 4,
 "nbformat_minor": 1
}
