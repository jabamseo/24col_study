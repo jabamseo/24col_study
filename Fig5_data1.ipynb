{
 "cells": [
  {
   "cell_type": "code",
   "execution_count": 1,
   "metadata": {
    "id": "A67csI5UhcvH"
   },
   "outputs": [],
   "source": [
    "import math\n",
    "import random\n",
    "import pickle\n",
    "import numpy as np\n",
    "import matplotlib.pyplot as plt"
   ]
  },
  {
   "cell_type": "code",
   "execution_count": 2,
   "metadata": {
    "id": "QigaNCURhOcc"
   },
   "outputs": [],
   "source": [
    "def calV1_3D(N, theta, phi):\n",
    "  V_max_list = np.array([1.4142135623730951, 3.9481594714802353, 7.666977259633668, 12.49614444572656, 18.511218397802732, 25.619490892577677, 33.89610553620064, 43.30531859956281, 53.851507919120344])\n",
    "  V_max = V_max_list[N-2]\n",
    "  # Calculate V (mass of external field)\n",
    "  V = 0\n",
    "  for i in range(N):\n",
    "    for j in range(N):\n",
    "      if i == j:\n",
    "        continue\n",
    "      a = [np.sin(theta[i])*np.cos(phi[i]), np.sin(theta[i])*np.sin(phi[i]), np.cos(theta[i])]\n",
    "      b = [np.sin(theta[j])*np.cos(phi[j]), np.sin(theta[j])*np.sin(phi[j]), np.cos(theta[j])]\n",
    "      cos_t = np.around(np.dot(a, b),10)\n",
    "      t = (2-2*cos_t)**0.5\n",
    "      V += t**0.5\n",
    "\n",
    "  return 0.5*V/V_max"
   ]
  },
  {
   "cell_type": "code",
   "execution_count": 3,
   "metadata": {
    "id": "IwkoDaMgBrXi"
   },
   "outputs": [],
   "source": [
    "def calV2_3D(N, S_array):\n",
    "  '''\n",
    "  Calculate the diversity of group opinions.\n",
    "  The value of 'calV_3D' is a kind of an electric potential energy,\n",
    "  If a group has high energy, the group opinions are diverse: this point is different from the normal Thomson problem.\n",
    "  '''\n",
    "\n",
    "  # Choose the V_max which depends on the N\n",
    "  V_max_list = np.array([1.4142135623730951, 3.9481594714802353, 7.666977259633668, 12.49614444572656, 18.511218397802732, 25.619490892577677, 33.89610553620064, 43.30531859956281, 53.851507919120344])\n",
    "  V_max = V_max_list[N-2]\n",
    "\n",
    "  # Calculate V (mass of external field)\n",
    "  V = 0\n",
    "  for i in range(N):\n",
    "    for j in range(N):\n",
    "      if i == j:\n",
    "        continue\n",
    "      a = S_array[i,:]\n",
    "      b = S_array[j,:]\n",
    "      cos_t = np.round(np.dot(a, b),10)\n",
    "      t = (2-2*cos_t)**0.5\n",
    "      V += t**0.5\n",
    "\n",
    "  return 0.5*V/V_max"
   ]
  },
  {
   "cell_type": "code",
   "execution_count": 4,
   "metadata": {
    "id": "Y3EnXkZkhdJf"
   },
   "outputs": [],
   "source": [
    "def MCrun_3D(Vt, V, N, theta, phi):\n",
    "  # Change one of spins\n",
    "  i = np.random.randint(N)\n",
    "\n",
    "  theta_new = np.copy(theta)\n",
    "  theta_new[i] += 0.005*random.choice([-1, 1])*np.pi\n",
    "  if theta_new[i] > np.pi:\n",
    "    theta_new[i] = np.pi - (theta_new[i] - np.pi)\n",
    "  elif theta_new[i] < 0:\n",
    "    theta_new[i] = -theta_new[i]\n",
    "\n",
    "  phi_new = np.copy(phi)\n",
    "  phi_new[i] += 0.005*random.choice([-1, 1])*np.pi\n",
    "  if phi_new[i] > np.pi:\n",
    "    phi_new[i] = -2*np.pi + phi_new[i]\n",
    "  elif phi_new[i] <= -np.pi:\n",
    "    phi_new[i] = 2*np.pi + phi_new[i]\n",
    "\n",
    "  # Calculate the change of potential\n",
    "  V_new = calV1_3D(N, theta_new, phi_new)\n",
    "  Vt_init = Vt - V\n",
    "  Vt_new = Vt - V_new\n",
    "\n",
    "  # Minimize the potential\n",
    "  if (abs(Vt_init) > abs(Vt_new)):\n",
    "    theta = theta_new\n",
    "    phi = phi_new\n",
    "    V = V_new\n",
    "\n",
    "  return V, theta, phi"
   ]
  },
  {
   "cell_type": "markdown",
   "metadata": {},
   "source": [
    "# prototype"
   ]
  },
  {
   "cell_type": "code",
   "execution_count": 53,
   "metadata": {
    "colab": {
     "base_uri": "https://localhost:8080/"
    },
    "id": "U5xnOIHTkJlF",
    "outputId": "64fe9974-4258-4a69-b429-5689909281f1"
   },
   "outputs": [
    {
     "name": "stdout",
     "output_type": "stream",
     "text": [
      "BEFORE\n",
      "0.29985776790316615\n",
      "0.03528433000859493\n"
     ]
    }
   ],
   "source": [
    "# 0.1 ~ 0.3\n",
    "N = 4\n",
    "theta = 1/2*np.pi*np.ones(N)\n",
    "phi = 2*np.pi*np.ones(N)\n",
    "\n",
    "V_tar = 0.3\n",
    "V = calV1_3D(N, theta, phi)\n",
    "for _ in range(1000):\n",
    "  V, theta, phi = MCrun_3D(V_tar, V, N, theta, phi)\n",
    "  if abs(calV1_3D(N, theta, phi) - V_tar) < 0.001:\n",
    "    print('BEFORE')\n",
    "    print(calV1_3D(N, theta, phi))\n",
    "    print(np.cos(theta).mean())\n",
    "    break"
   ]
  },
  {
   "cell_type": "code",
   "execution_count": 16,
   "metadata": {
    "colab": {
     "base_uri": "https://localhost:8080/"
    },
    "id": "1qpTWiV2Yk5o",
    "outputId": "2de25576-1d3d-44ec-f953-f491f7002938"
   },
   "outputs": [
    {
     "name": "stdout",
     "output_type": "stream",
     "text": [
      "BEFORE\n",
      "0.8997565709079173\n",
      "0.5134391366920269\n"
     ]
    }
   ],
   "source": [
    "# 0.4 ~ 0.9\n",
    "N = 4\n",
    "theta = 1/2*np.pi*np.random.rand(N)\n",
    "phi = 2*np.pi*np.random.rand(N)\n",
    "\n",
    "V_tar = 0.9\n",
    "V = calV1_3D(N, theta, phi)\n",
    "for _ in range(1000):\n",
    "  V, theta, phi = MCrun_3D(V_tar, V, N, theta, phi)\n",
    "  if abs(calV1_3D(N, theta, phi) - V_tar) < 0.001:\n",
    "    print('BEFORE')\n",
    "    print(calV1_3D(N, theta, phi))\n",
    "    print(np.cos(theta).mean())\n",
    "    break"
   ]
  },
  {
   "cell_type": "markdown",
   "metadata": {},
   "source": [
    "# DATA"
   ]
  },
  {
   "cell_type": "code",
   "execution_count": 26,
   "metadata": {
    "id": "vgSrUZjGTRAH"
   },
   "outputs": [],
   "source": [
    "N = 4\n",
    "MC_step = 100\n",
    "ENS_step = 1000\n",
    "\n",
    "V_tar_lst = [0.1, 0.2, 0.3]\n",
    "Score_lst = [-0.5, -0.4, -0.3, -0.2, -0.1, 0, 0.1, 0.2, 0.3, 0.4, 0.5]\n",
    "\n",
    "for V_tar in V_tar_lst:\n",
    "  for Score_tar in Score_lst:\n",
    "    S_array = np.zeros((MC_step, ENS_step, N, 3))\n",
    "\n",
    "    idx = 0\n",
    "    while idx < ENS_step:\n",
    "      check = 0\n",
    "      theta = 1/2*np.pi*np.ones(N)\n",
    "      phi = 2*np.pi*np.ones(N)\n",
    "      V = calV1_3D(N, theta, phi)\n",
    "      for _ in range(1000):\n",
    "        V, theta, phi = MCrun_3D(V_tar, V, N, theta, phi)\n",
    "        if abs(calV1_3D(N, theta, phi) - V_tar) < 0.001:\n",
    "          check = 1\n",
    "          break\n",
    "            \n",
    "      if check:\n",
    "          for i in np.linspace(0,2,10000):\n",
    "            S = np.zeros((N, 3))\n",
    "            th = i*np.pi-theta.mean()\n",
    "            Ry = np.array([[np.cos(th), 0, np.sin(th)],\n",
    "                          [0, 1, 0],\n",
    "                          [-np.sin(th), 0, np.cos(th)]])\n",
    "            for n in range(N):\n",
    "              S[n] = Ry@np.array([np.sin(theta[n])*np.cos(phi[n]), np.sin(theta[n])*np.sin(phi[n]), np.cos(theta[n])])\n",
    "\n",
    "            Score = S[:,2].mean()\n",
    "            if abs(Score - Score_tar) < 0.001:\n",
    "              for n in range(N):\n",
    "                S_array[0,idx,n,:] = S[n]\n",
    "              idx += 1\n",
    "              if idx == ENS_step:\n",
    "                    break\n",
    "\n",
    "    with open(f\"Sarray_N{N}_Score{Score_tar}_Vt{V_tar}.pkl\",\"wb\") as f:\n",
    "      pickle.dump(S_array, f)"
   ]
  },
  {
   "cell_type": "code",
   "execution_count": 27,
   "metadata": {},
   "outputs": [],
   "source": [
    "N = 4\n",
    "MC_step = 100\n",
    "ENS_step = 1000\n",
    "\n",
    "V_tar_lst = [0.4, 0.5, 0.6, 0.7, 0.8, 0.9]\n",
    "Score_lst = [-0.5, -0.4, -0.3, -0.2, -0.1, 0, 0.1, 0.2, 0.3, 0.4, 0.5]\n",
    "\n",
    "for V_tar in V_tar_lst:\n",
    "  for Score_tar in Score_lst:\n",
    "    S_array = np.zeros((MC_step, ENS_step, N, 3))\n",
    "\n",
    "    idx = 0\n",
    "    while idx < ENS_step:\n",
    "      check = 0\n",
    "      theta = 1/2*np.pi*np.random.rand(N)\n",
    "      phi = 2*np.pi*np.random.rand(N)\n",
    "      V = calV1_3D(N, theta, phi)\n",
    "      for _ in range(1000):\n",
    "        V, theta, phi = MCrun_3D(V_tar, V, N, theta, phi)\n",
    "        if abs(calV1_3D(N, theta, phi) - V_tar) < 0.001:\n",
    "          check = 1\n",
    "          break\n",
    "            \n",
    "      if check:\n",
    "          for i in np.linspace(0,2,10000):\n",
    "            S = np.zeros((N, 3))\n",
    "            th = i*np.pi-theta.mean()\n",
    "            Ry = np.array([[np.cos(th), 0, np.sin(th)],\n",
    "                          [0, 1, 0],\n",
    "                          [-np.sin(th), 0, np.cos(th)]])\n",
    "            for n in range(N):\n",
    "              S[n] = Ry@np.array([np.sin(theta[n])*np.cos(phi[n]), np.sin(theta[n])*np.sin(phi[n]), np.cos(theta[n])])\n",
    "\n",
    "            Score = S[:,2].mean()\n",
    "            if abs(Score - Score_tar) < 0.001:\n",
    "              for n in range(N):\n",
    "                S_array[0,idx,n,:] = S[n]\n",
    "              idx += 1\n",
    "              if idx == ENS_step:\n",
    "                    break\n",
    "\n",
    "    with open(f\"Sarray_N{N}_Score{Score_tar}_Vt{V_tar}.pkl\",\"wb\") as f:\n",
    "      pickle.dump(S_array, f)"
   ]
  },
  {
   "cell_type": "code",
   "execution_count": null,
   "metadata": {},
   "outputs": [],
   "source": []
  }
 ],
 "metadata": {
  "colab": {
   "provenance": [],
   "toc_visible": true
  },
  "kernelspec": {
   "display_name": "Python 3 (ipykernel)",
   "language": "python",
   "name": "python3"
  },
  "language_info": {
   "codemirror_mode": {
    "name": "ipython",
    "version": 3
   },
   "file_extension": ".py",
   "mimetype": "text/x-python",
   "name": "python",
   "nbconvert_exporter": "python",
   "pygments_lexer": "ipython3",
   "version": "3.11.5"
  }
 },
 "nbformat": 4,
 "nbformat_minor": 1
}
