{
 "cells": [
  {
   "cell_type": "code",
   "execution_count": 24,
   "metadata": {
    "id": "aBq5pUcOJBHU"
   },
   "outputs": [],
   "source": [
    "import math\n",
    "import random\n",
    "import pickle\n",
    "import numpy as np\n",
    "import matplotlib.pyplot as plt"
   ]
  },
  {
   "cell_type": "markdown",
   "metadata": {
    "id": "Eeo8qM9_JESI"
   },
   "source": [
    "# Setting"
   ]
  },
  {
   "cell_type": "markdown",
   "metadata": {
    "id": "-FkpLjfnKZF_"
   },
   "source": [
    "\n",
    "\n",
    "```\n",
    "S_array = np.array(\n",
    "    [\n",
    "        [['x', 'y', 'z'],['x', 'y', 'z'],['x', 'y', 'z'], ... , ['x', 'y', 'z']], # 3D의 N개 스핀\n",
    "        \n",
    "         ...\n",
    "\n",
    "        [['x', 'y', 'z'],['x', 'y', 'z'],['x', 'y', 'z'], ... , ['x', 'y', 'z']] # 3D의 N개 스핀\n",
    "        # No. of Ensemble\n",
    "    ]\n",
    ")\n",
    "```\n",
    "\n"
   ]
  },
  {
   "cell_type": "code",
   "execution_count": 25,
   "metadata": {
    "id": "CmT5w4IiMNOB"
   },
   "outputs": [],
   "source": [
    "def calV_3D(N, ens, mc, S_array, a_array):\n",
    "  '''\n",
    "  Calculate the diversity of group opinions.\n",
    "  The value of 'calV_3D' is a kind of an electric potential energy,\n",
    "  If a group has high energy, the group opinions are diverse: this point is different from the normal Thomson problem.\n",
    "  '''\n",
    "\n",
    "  # Choose the V_max which depends on the N\n",
    "  V_max_list = np.array([1.4142135623730951, 3.9481594714802353, 7.666977259633668, 12.49614444572656, 18.511218397802732, 25.619490892577677, 33.89610553620064, 43.30531859956281, 53.851507919120344])\n",
    "  V_max = V_max_list[N-2]\n",
    "\n",
    "  # Calculate V (mass of external field)\n",
    "  V = 0\n",
    "  for i in range(N):\n",
    "    for j in range(N):\n",
    "      if i == j:\n",
    "        continue\n",
    "      a = S_array[mc,ens,i,:]\n",
    "      b = S_array[mc,ens,j,:]\n",
    "      cos_t = np.round(np.dot(a, b),10)\n",
    "      t = a_array[ens,i]*a_array[ens,j]*(2-2*cos_t)**0.5\n",
    "      V += t**0.5\n",
    "\n",
    "  return 0.5*V/V_max"
   ]
  },
  {
   "cell_type": "code",
   "execution_count": 28,
   "metadata": {
    "id": "FOFG4CzdJhBh"
   },
   "outputs": [],
   "source": [
    "def run(N, T, alpha, ENS_step, MC_step, CONFIG):\n",
    "  '''\n",
    "  N =         No. of agents\n",
    "  alpha =     Exponent\n",
    "  ENS_step =  Ensemble\n",
    "  MC_step =   (Macro) Step\n",
    "  '''\n",
    "  S_array = np.zeros((MC_step, ENS_step, N, 3))        # S(t)\n",
    "  a_array = np.zeros((ENS_step, N))\n",
    "  V_array = np.zeros((MC_step, ENS_step))           # V(t)\n",
    "  del_S_array = np.zeros((MC_step, ENS_step, N))       # delS(t)\n",
    "\n",
    "  for mc in range(MC_step):\n",
    "    for ens in range(ENS_step):\n",
    "\n",
    "      # 1. Initialize\n",
    "      if mc == 0:\n",
    "        for n in range(N):\n",
    "          theta_dict = {\n",
    "              'NP': 0,\n",
    "              'NH': (1/2*np.random.rand())*np.pi,\n",
    "              'AR': (np.random.rand())*np.pi,\n",
    "              'SH': (1-1/2*np.random.rand())*np.pi,\n",
    "              'SP': np.pi\n",
    "          }\n",
    "          phi_dict = {\n",
    "              'NP': 0,\n",
    "              'NH': (2*np.random.rand())*np.pi,\n",
    "              'AR': (2*np.random.rand())*np.pi,\n",
    "              'SH': (2*np.random.rand())*np.pi,\n",
    "              'SP': 0\n",
    "          }\n",
    "          theta = theta_dict[CONFIG]\n",
    "          phi = phi_dict[CONFIG]\n",
    "          a_array[ens,n] = np.random.rand()\n",
    "          S_array[mc,ens,n,:] = np.array([np.sin(theta)*np.cos(phi), np.sin(theta)*np.sin(phi), np.cos(theta)])\n",
    "        V_array[mc,ens] = calV_3D(N, ens, mc, S_array, a_array)\n",
    "\n",
    "      # 2. Interact\n",
    "      else:\n",
    "        V = V_array[mc-1,ens]\n",
    "        for i in range(N):\n",
    "          # 1. Calculate Group Opinion (S_G)\n",
    "          e = np.array([0.0, 0.0, 1.0])\n",
    "          v_i = np.array([0.0, 0.0, 0.0])\n",
    "          for j in range(N):\n",
    "            si_sj = np.dot(S_array[mc-1,ens,i,:],S_array[mc-1,ens,j,:])\n",
    "            v_ij = 0.5*(1+si_sj)*a_array[ens,j]*S_array[mc-1,ens,j,:]\n",
    "            v_i += v_ij\n",
    "          v_i += (N**alpha)*V*e\n",
    "          v_i_n = np.linalg.norm(v_i)\n",
    "          v_f = v_i/v_i_n\n",
    "\n",
    "          # 2. Calculate Prob lambda\n",
    "          if mc <= T:\n",
    "            rT = a_array[ens,i]*np.sum(S_array[0:mc,ens,i,:], axis=0)\n",
    "          else:\n",
    "            rT = a_array[ens,i]*np.sum(S_array[mc-T:mc,ens,i,:], axis=0)\n",
    "          M = np.linalg.norm(rT)\n",
    "          Th = np.arccos(np.round(np.dot(rT/M, v_f),10))\n",
    "          Lamb = 1/(1+M*Th)\n",
    "\n",
    "          # 3. Spin\n",
    "          p = np.random.rand()\n",
    "          # 3-1. Change Spins\n",
    "          if p <= Lamb:\n",
    "            S_array[mc,ens,i,:] = v_f\n",
    "          # 3-2. Retain Spins\n",
    "          else:\n",
    "            S_array[mc,ens,i,:] = S_array[mc-1,ens,i,:]\n",
    "          del_S_array[mc,ens,i] = np.linalg.norm(S_array[mc,ens,i,:] - S_array[mc-1,ens,i,:])\n",
    "          V_array[mc,ens] = calV_3D(N, ens, mc, S_array, a_array)\n",
    "\n",
    "  return S_array, V_array, del_S_array"
   ]
  },
  {
   "cell_type": "markdown",
   "metadata": {
    "id": "tLAnFF5YlpBI"
   },
   "source": [
    "# Download"
   ]
  },
  {
   "cell_type": "markdown",
   "metadata": {},
   "source": [
    "## Fig 1"
   ]
  },
  {
   "cell_type": "code",
   "execution_count": 31,
   "metadata": {
    "id": "m7FtxG2rmGDQ"
   },
   "outputs": [],
   "source": [
    "N = 10                             # No. of agents\n",
    "T = 10\n",
    "alpha = 0.5                       # Exponent\n",
    "ENS_step = 100                    # Ensemble\n",
    "MC_step = 100                     # (Macro) Step\n",
    "\n",
    "spin_config = ['NP', 'NH', 'AR', 'SH', 'SP']\n",
    "\n",
    "for config in spin_config:\n",
    "  S_array, V_array, del_S_array = run(N, T, alpha, ENS_step, MC_step, config)\n",
    "\n",
    "  with open(f\"Sarray_N{N}_T{T}_alpha{alpha}_{config}.pkl\",\"wb\") as f:\n",
    "      pickle.dump(S_array, f)\n",
    "  with open(f\"Varray_N{N}_T{T}_alpha{alpha}_{config}.pkl\",\"wb\") as f:\n",
    "      pickle.dump(V_array, f)\n",
    "  with open(f\"DelS_array_N{N}_T{T}_alpha{alpha}_{config}.pkl\",\"wb\") as f:\n",
    "      pickle.dump(del_S_array, f)"
   ]
  },
  {
   "cell_type": "markdown",
   "metadata": {},
   "source": [
    "## Fig 2"
   ]
  },
  {
   "cell_type": "code",
   "execution_count": 13,
   "metadata": {},
   "outputs": [],
   "source": [
    "N = 5                             # No. of agents\n",
    "alpha = 0.5                       # Exponent\n",
    "ENS_step = 1000                    # Ensemble\n",
    "MC_step = 100                     # (Macro) Step\n",
    "\n",
    "spin_config = ['NH', 'AR', 'SH']\n",
    "\n",
    "T = 1\n",
    "\n",
    "for config in spin_config:\n",
    "  S_array, V_array, del_S_array = run(N, T, alpha, ENS_step, MC_step, config)\n",
    "\n",
    "  with open(f\"Sarray_N{N}_T{T}_alpha{alpha}_{config}.pkl\",\"wb\") as f:\n",
    "      pickle.dump(S_array, f)\n",
    "  with open(f\"Varray_N{N}_T{T}_alpha{alpha}_{config}.pkl\",\"wb\") as f:\n",
    "      pickle.dump(V_array, f)\n",
    "  with open(f\"DelS_array_N{N}_T{T}_alpha{alpha}_{config}.pkl\",\"wb\") as f:\n",
    "      pickle.dump(del_S_array, f)"
   ]
  },
  {
   "cell_type": "code",
   "execution_count": 14,
   "metadata": {},
   "outputs": [],
   "source": [
    "N = 5                             # No. of agents\n",
    "alpha = 0.5                       # Exponent\n",
    "ENS_step = 1000                    # Ensemble\n",
    "MC_step = 100                     # (Macro) Step\n",
    "\n",
    "spin_config = ['NH', 'AR', 'SH']\n",
    "\n",
    "T = 100\n",
    "\n",
    "for config in spin_config:\n",
    "  S_array, V_array, del_S_array = run(N, T, alpha, ENS_step, MC_step, config)\n",
    "\n",
    "  with open(f\"Sarray_N{N}_T{T}_alpha{alpha}_{config}.pkl\",\"wb\") as f:\n",
    "      pickle.dump(S_array, f)\n",
    "  with open(f\"Varray_N{N}_T{T}_alpha{alpha}_{config}.pkl\",\"wb\") as f:\n",
    "      pickle.dump(V_array, f)\n",
    "  with open(f\"DelS_array_N{N}_T{T}_alpha{alpha}_{config}.pkl\",\"wb\") as f:\n",
    "      pickle.dump(del_S_array, f)"
   ]
  },
  {
   "cell_type": "markdown",
   "metadata": {},
   "source": [
    "## Fig 3"
   ]
  },
  {
   "cell_type": "code",
   "execution_count": 15,
   "metadata": {},
   "outputs": [],
   "source": [
    "N = 5                             # No. of agents\n",
    "T = 10\n",
    "ENS_step = 1000                    # Ensemble\n",
    "MC_step = 100                     # (Macro) Step\n",
    "\n",
    "spin_config = ['NH', 'AR', 'SH']\n",
    "\n",
    "alpha = 0.1\n",
    "\n",
    "for config in spin_config:\n",
    "  S_array, V_array, del_S_array = run(N, T, alpha, ENS_step, MC_step, config)\n",
    "\n",
    "  with open(f\"Sarray_N{N}_T{T}_alpha{alpha}_{config}.pkl\",\"wb\") as f:\n",
    "      pickle.dump(S_array, f)\n",
    "  with open(f\"Varray_N{N}_T{T}_alpha{alpha}_{config}.pkl\",\"wb\") as f:\n",
    "      pickle.dump(V_array, f)\n",
    "  with open(f\"DelS_array_N{N}_T{T}_alpha{alpha}_{config}.pkl\",\"wb\") as f:\n",
    "      pickle.dump(del_S_array, f)"
   ]
  },
  {
   "cell_type": "code",
   "execution_count": 16,
   "metadata": {},
   "outputs": [],
   "source": [
    "N = 5                             # No. of agents\n",
    "T = 10\n",
    "ENS_step = 1000                    # Ensemble\n",
    "MC_step = 100                     # (Macro) Step\n",
    "\n",
    "spin_config = ['NH', 'AR', 'SH']\n",
    "\n",
    "alpha = 0.9\n",
    "\n",
    "for config in spin_config:\n",
    "  S_array, V_array, del_S_array = run(N, T, alpha, ENS_step, MC_step, config)\n",
    "\n",
    "  with open(f\"Sarray_N{N}_T{T}_alpha{alpha}_{config}.pkl\",\"wb\") as f:\n",
    "      pickle.dump(S_array, f)\n",
    "  with open(f\"Varray_N{N}_T{T}_alpha{alpha}_{config}.pkl\",\"wb\") as f:\n",
    "      pickle.dump(V_array, f)\n",
    "  with open(f\"DelS_array_N{N}_T{T}_alpha{alpha}_{config}.pkl\",\"wb\") as f:\n",
    "      pickle.dump(del_S_array, f)"
   ]
  },
  {
   "cell_type": "markdown",
   "metadata": {},
   "source": [
    "## Fig 4"
   ]
  },
  {
   "cell_type": "code",
   "execution_count": 17,
   "metadata": {},
   "outputs": [],
   "source": [
    "for N in [4,6,7,8,9,10]:\n",
    "    T = 10\n",
    "    alpha = 0.5                       # Exponent\n",
    "    ENS_step = 1000                    # Ensemble\n",
    "    MC_step = 100                     # (Macro) Step\n",
    "\n",
    "    spin_config = ['NH', 'AR', 'SH']\n",
    "\n",
    "    for config in spin_config:\n",
    "      S_array, V_array, del_S_array = run(N, T, alpha, ENS_step, MC_step, config)\n",
    "\n",
    "      with open(f\"Sarray_N{N}_T{T}_alpha{alpha}_{config}.pkl\",\"wb\") as f:\n",
    "          pickle.dump(S_array, f)\n",
    "      with open(f\"Varray_N{N}_T{T}_alpha{alpha}_{config}.pkl\",\"wb\") as f:\n",
    "          pickle.dump(V_array, f)\n",
    "      with open(f\"DelS_array_N{N}_T{T}_alpha{alpha}_{config}.pkl\",\"wb\") as f:\n",
    "          pickle.dump(del_S_array, f)"
   ]
  },
  {
   "cell_type": "code",
   "execution_count": null,
   "metadata": {},
   "outputs": [],
   "source": []
  }
 ],
 "metadata": {
  "colab": {
   "collapsed_sections": [
    "ana2QFp3MfYA",
    "y9KlfaXpJla3"
   ],
   "provenance": [],
   "toc_visible": true
  },
  "kernelspec": {
   "display_name": "Python 3 (ipykernel)",
   "language": "python",
   "name": "python3"
  },
  "language_info": {
   "codemirror_mode": {
    "name": "ipython",
    "version": 3
   },
   "file_extension": ".py",
   "mimetype": "text/x-python",
   "name": "python",
   "nbconvert_exporter": "python",
   "pygments_lexer": "ipython3",
   "version": "3.11.5"
  }
 },
 "nbformat": 4,
 "nbformat_minor": 1
}
