{
 "cells": [
  {
   "cell_type": "code",
   "execution_count": 1,
   "metadata": {
    "id": "A67csI5UhcvH"
   },
   "outputs": [],
   "source": [
    "import math\n",
    "import random\n",
    "import pickle\n",
    "import numpy as np\n",
    "import matplotlib.pyplot as plt"
   ]
  },
  {
   "cell_type": "markdown",
   "metadata": {},
   "source": [
    "# Main Functions"
   ]
  },
  {
   "cell_type": "code",
   "execution_count": 2,
   "metadata": {
    "id": "QigaNCURhOcc"
   },
   "outputs": [],
   "source": [
    "def calV1_3D(N, theta, phi):\n",
    "  '''\n",
    "  We calculate the diversity of group opinions using the function calV_3D,\n",
    "  which yields a value analogous to electric potential energy.\n",
    "  A higher energy value indicates greater diversity among the group opinions.\n",
    "  '''\n",
    "    \n",
    "  V_max_list = np.array([1.4142135623730951, 3.9481594714802353, 7.666977259633668, 12.49614444572656, 18.511218397802732, 25.619490892577677, 33.89610553620064, 43.30531859956281, 53.851507919120344])\n",
    "  V_max = V_max_list[N-2]\n",
    "    \n",
    "  # Calculate V (mass of external field)\n",
    "  V = 0\n",
    "  for i in range(N):\n",
    "    for j in range(N):\n",
    "      if i == j:\n",
    "        continue\n",
    "      a = [np.sin(theta[i])*np.cos(phi[i]), np.sin(theta[i])*np.sin(phi[i]), np.cos(theta[i])]\n",
    "      b = [np.sin(theta[j])*np.cos(phi[j]), np.sin(theta[j])*np.sin(phi[j]), np.cos(theta[j])]\n",
    "      cos_t = np.around(np.dot(a, b),10)\n",
    "      t = (2-2*cos_t)**0.5\n",
    "      V += t**0.5\n",
    "\n",
    "  return 0.5*V/V_max"
   ]
  },
  {
   "cell_type": "code",
   "execution_count": 4,
   "metadata": {
    "id": "Y3EnXkZkhdJf"
   },
   "outputs": [],
   "source": [
    "def MCrun_3D(Vt, V, N, theta, phi):\n",
    "  # Change one of spins\n",
    "  i = np.random.randint(N)\n",
    "\n",
    "  theta_new = np.copy(theta)\n",
    "  theta_new[i] += 0.005*random.choice([-1, 1])*np.pi\n",
    "  if theta_new[i] > np.pi:\n",
    "    theta_new[i] = np.pi - (theta_new[i] - np.pi)\n",
    "  elif theta_new[i] < 0:\n",
    "    theta_new[i] = -theta_new[i]\n",
    "\n",
    "  phi_new = np.copy(phi)\n",
    "  phi_new[i] += 0.005*random.choice([-1, 1])*np.pi\n",
    "  if phi_new[i] > np.pi:\n",
    "    phi_new[i] = -2*np.pi + phi_new[i]\n",
    "  elif phi_new[i] <= -np.pi:\n",
    "    phi_new[i] = 2*np.pi + phi_new[i]\n",
    "\n",
    "  # Calculate the change of potential\n",
    "  V_new = calV1_3D(N, theta_new, phi_new)\n",
    "  Vt_init = Vt - V\n",
    "  Vt_new = Vt - V_new\n",
    "\n",
    "  # Minimize the potential\n",
    "  if (abs(Vt_init) > abs(Vt_new)):\n",
    "    theta = theta_new\n",
    "    phi = phi_new\n",
    "    V = V_new\n",
    "\n",
    "  return V, theta, phi"
   ]
  },
  {
   "cell_type": "markdown",
   "metadata": {},
   "source": [
    "# Data generation"
   ]
  },
  {
   "cell_type": "code",
   "execution_count": 26,
   "metadata": {
    "id": "vgSrUZjGTRAH"
   },
   "outputs": [],
   "source": [
    "N = 4\n",
    "MC_step = 100\n",
    "ENS_step = 1000\n",
    "\n",
    "V_tar_lst = [0.1, 0.2, 0.3]\n",
    "Score_lst = [-0.5, -0.4, -0.3, -0.2, -0.1, 0, 0.1, 0.2, 0.3, 0.4, 0.5]\n",
    "\n",
    "for V_tar in V_tar_lst:\n",
    "  for Score_tar in Score_lst:\n",
    "    S_array = np.zeros((MC_step, ENS_step, N, 3))\n",
    "\n",
    "    idx = 0\n",
    "    while idx < ENS_step:\n",
    "      check = 0\n",
    "      theta = 1/2*np.pi*np.ones(N)\n",
    "      phi = 2*np.pi*np.ones(N)\n",
    "      V = calV1_3D(N, theta, phi)\n",
    "      for _ in range(1000):\n",
    "        V, theta, phi = MCrun_3D(V_tar, V, N, theta, phi)\n",
    "        if abs(calV1_3D(N, theta, phi) - V_tar) < 0.001:\n",
    "          check = 1\n",
    "          break\n",
    "            \n",
    "      if check:\n",
    "          for i in np.linspace(0,2,10000):\n",
    "            S = np.zeros((N, 3))\n",
    "            th = i*np.pi-theta.mean()\n",
    "            Ry = np.array([[np.cos(th), 0, np.sin(th)],\n",
    "                          [0, 1, 0],\n",
    "                          [-np.sin(th), 0, np.cos(th)]])\n",
    "            for n in range(N):\n",
    "              S[n] = Ry@np.array([np.sin(theta[n])*np.cos(phi[n]), np.sin(theta[n])*np.sin(phi[n]), np.cos(theta[n])])\n",
    "\n",
    "            Score = S[:,2].mean()\n",
    "            if abs(Score - Score_tar) < 0.001:\n",
    "              for n in range(N):\n",
    "                S_array[0,idx,n,:] = S[n]\n",
    "              idx += 1\n",
    "              if idx == ENS_step:\n",
    "                    break\n",
    "\n",
    "    with open(f\"Sarray_N{N}_Score{Score_tar}_Vt{V_tar}.pkl\",\"wb\") as f:\n",
    "      pickle.dump(S_array, f)"
   ]
  },
  {
   "cell_type": "code",
   "execution_count": 27,
   "metadata": {},
   "outputs": [],
   "source": [
    "N = 4\n",
    "MC_step = 100\n",
    "ENS_step = 1000\n",
    "\n",
    "V_tar_lst = [0.4, 0.5, 0.6, 0.7, 0.8, 0.9]\n",
    "Score_lst = [-0.5, -0.4, -0.3, -0.2, -0.1, 0, 0.1, 0.2, 0.3, 0.4, 0.5]\n",
    "\n",
    "for V_tar in V_tar_lst:\n",
    "  for Score_tar in Score_lst:\n",
    "    S_array = np.zeros((MC_step, ENS_step, N, 3))\n",
    "\n",
    "    idx = 0\n",
    "    while idx < ENS_step:\n",
    "      check = 0\n",
    "      theta = 1/2*np.pi*np.random.rand(N)\n",
    "      phi = 2*np.pi*np.random.rand(N)\n",
    "      V = calV1_3D(N, theta, phi)\n",
    "      for _ in range(1000):\n",
    "        V, theta, phi = MCrun_3D(V_tar, V, N, theta, phi)\n",
    "        if abs(calV1_3D(N, theta, phi) - V_tar) < 0.001:\n",
    "          check = 1\n",
    "          break\n",
    "            \n",
    "      if check:\n",
    "          for i in np.linspace(0,2,10000):\n",
    "            S = np.zeros((N, 3))\n",
    "            th = i*np.pi-theta.mean()\n",
    "            Ry = np.array([[np.cos(th), 0, np.sin(th)],\n",
    "                          [0, 1, 0],\n",
    "                          [-np.sin(th), 0, np.cos(th)]])\n",
    "            for n in range(N):\n",
    "              S[n] = Ry@np.array([np.sin(theta[n])*np.cos(phi[n]), np.sin(theta[n])*np.sin(phi[n]), np.cos(theta[n])])\n",
    "\n",
    "            Score = S[:,2].mean()\n",
    "            if abs(Score - Score_tar) < 0.001:\n",
    "              for n in range(N):\n",
    "                S_array[0,idx,n,:] = S[n]\n",
    "              idx += 1\n",
    "              if idx == ENS_step:\n",
    "                    break\n",
    "\n",
    "    with open(f\"Sarray_N{N}_Score{Score_tar}_Vt{V_tar}.pkl\",\"wb\") as f:\n",
    "      pickle.dump(S_array, f)"
   ]
  }
 ],
 "metadata": {
  "colab": {
   "provenance": [],
   "toc_visible": true
  },
  "kernelspec": {
   "display_name": "Python 3 (ipykernel)",
   "language": "python",
   "name": "python3"
  },
  "language_info": {
   "codemirror_mode": {
    "name": "ipython",
    "version": 3
   },
   "file_extension": ".py",
   "mimetype": "text/x-python",
   "name": "python",
   "nbconvert_exporter": "python",
   "pygments_lexer": "ipython3",
   "version": "3.11.5"
  }
 },
 "nbformat": 4,
 "nbformat_minor": 1
}
